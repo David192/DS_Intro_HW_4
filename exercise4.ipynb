{
 "cells": [
  {
   "cell_type": "markdown",
   "id": "1ef09810",
   "metadata": {},
   "source": [
    "# A program returning those informations given a \"dests.txt\" file:\n",
    "1.\tDistance of the destination from Jerusalem in kilometers.\n",
    "2.\tArrival time from Jerusalem to the destination in hours and minutes.\n",
    "3.\tLongitude of the destination\n",
    "4.\tLatitude of the destination\n",
    "\n",
    "Using 2 functions get_dist_jer(gets the distance and the time from Jerusalem) and get_lng_lat(gets the lng and lat of the destination)\n",
    "get_dict() as the main function returning a dictionary with the details"
   ]
  },
  {
   "cell_type": "code",
   "execution_count": null,
   "id": "6d59ed57",
   "metadata": {},
   "outputs": [],
   "source": [
    "import requests\n",
    "import json\n",
    "from typing import Tuple, List, Dict\n",
    "\n",
    "\n",
    "def get_dist_jer(origin: str, api_key: str) -> Tuple[str, str]:\n",
    "    url = \"https://maps.googleapis.com/maps/api/distancematrix/json?destinations=Jerusalem&origins=%s&key=%s&units=metrics\" % (\n",
    "        origin, api_key)\n",
    "    try:\n",
    "        response = requests.get(url)\n",
    "        if not response.status_code == 200:\n",
    "            print(\"HTTP error\", response.status_code)\n",
    "        else:\n",
    "            try:\n",
    "                response_data = response.json()\n",
    "            except:\n",
    "                print(\"Response not in valid JSON format\")\n",
    "    except:\n",
    "        print(\"requests.get doesn't work properly\")\n",
    "\n",
    "    city_distance = response_data['rows'][0]['elements'][0]['distance']['text']\n",
    "    city_travel_time = response_data['rows'][0]['elements'][0]['duration']['text']\n",
    "    \n",
    "    # It wasn't clear in the assignement if we need to return the time in minutes or in hours and minutes, so this is the minutes option\n",
    "    # raw_city_travel_time = response_data['rows'][0]['elements'][0]['duration']['value']\n",
    "    # city_travel_time = round(int(raw_city_travel_time) / 60)\n",
    "    \n",
    "    return city_distance, city_travel_time\n",
    "\n",
    "\n",
    "def get_lng_lat(city_name: str, api_key: str) -> Tuple[str, str]:\n",
    "    url = \"https://maps.googleapis.com/maps/api/geocode/json?address=%s&key=%s\" % (\n",
    "        city_name, api_key)\n",
    "    try:\n",
    "        response = requests.get(url)\n",
    "        if not response.status_code == 200:\n",
    "            print(\"HTTP error\", response.status_code)\n",
    "        else:\n",
    "            try:\n",
    "                response_data = response.json()\n",
    "            except:\n",
    "                print(\"Response not in valid JSON format\")\n",
    "    except:\n",
    "        print(\"requests.get doesn't work properly\")\n",
    "\n",
    "    city_lng = response_data['results'][0]['geometry']['location']['lng']\n",
    "    city_lat = response_data['results'][0]['geometry']['location']['lat']\n",
    "\n",
    "    return city_lng, city_lat\n",
    "\n",
    "\n",
    "def get_dict() -> Dict:\n",
    "    api_key = '{My_api_key}'\n",
    "    city_list = open(\"dests.txt\").read().splitlines()\n",
    "    city_dict = dict()\n",
    "    for city in city_list:\n",
    "        details_list = [get_dist_jer(city, api_key)]\n",
    "        details_list.append(get_lng_lat(city, api_key))\n",
    "        formated_list = str(details_list).replace(\"(\", \"\").replace(\")\", \"\")\n",
    "        city_dict[city] = formated_list\n",
    "    return city_dict\n"
   ]
  },
  {
   "cell_type": "markdown",
   "id": "20df35b0",
   "metadata": {},
   "source": [
    "All the informations about each destination present in dests.txt file"
   ]
  },
  {
   "cell_type": "code",
   "execution_count": 14,
   "id": "3f7b60b3",
   "metadata": {},
   "outputs": [
    {
     "data": {
      "text/plain": [
       "{'Istanbul': \"['1,787 km', '20 hours 44 mins', 28.9783589, 41.0082376]\",\n",
       " 'Amsterdam': \"['4,504 km', '2 days 0 hours', 4.9041389, 52.3675734]\",\n",
       " 'Valletta': \"['3,769 km', '2 days 3 hours', 14.5145528, 35.8989085]\",\n",
       " 'Basel': \"['4,067 km', '1 day 20 hours', 7.5885761, 47.5595986]\",\n",
       " 'Doha': \"['2,109 km', '22 hours 1 min', 51.53103979999999, 25.2854473]\"}"
      ]
     },
     "execution_count": 14,
     "metadata": {},
     "output_type": "execute_result"
    }
   ],
   "source": [
    "from exercise4 import get_dict\n",
    "\n",
    "get_dict()"
   ]
  },
  {
   "cell_type": "markdown",
   "id": "d21a8b0a",
   "metadata": {},
   "source": [
    "Given get_dict dictionary, returns a list of the 3 cities furthest from Jerusalem"
   ]
  },
  {
   "cell_type": "code",
   "execution_count": 18,
   "id": "e1439c7c",
   "metadata": {},
   "outputs": [
    {
     "data": {
      "text/plain": [
       "['Amsterdam', 'Basel', 'Valletta']"
      ]
     },
     "execution_count": 18,
     "metadata": {},
     "output_type": "execute_result"
    }
   ],
   "source": [
    "from typing import List\n",
    "\n",
    "def find_long_dist() -> List:\n",
    "    city_dict = get_dict()\n",
    "    city_list = []\n",
    "    new_dict = dict()\n",
    "    for city in city_dict:\n",
    "        raw_data = str(city_dict[city]).split(' km')[0]\n",
    "        city_dist = raw_data.replace(\"[\", \"\").replace(\"'\", \"\")\n",
    "        new_dict[city] = city_dist\n",
    "    sorted_dict = sorted(new_dict.items(), key=lambda city: city[1], reverse=True)\n",
    "    furt_details = (sorted_dict[0:3])\n",
    "    furt_cities = [x[0] for x in furt_details]\n",
    "    return furt_cities\n",
    "\n",
    "find_long_dist()"
   ]
  }
 ],
 "metadata": {
  "kernelspec": {
   "display_name": "Python 3 (ipykernel)",
   "language": "python",
   "name": "python3"
  },
  "language_info": {
   "codemirror_mode": {
    "name": "ipython",
    "version": 3
   },
   "file_extension": ".py",
   "mimetype": "text/x-python",
   "name": "python",
   "nbconvert_exporter": "python",
   "pygments_lexer": "ipython3",
   "version": "3.9.7"
  }
 },
 "nbformat": 4,
 "nbformat_minor": 5
}
